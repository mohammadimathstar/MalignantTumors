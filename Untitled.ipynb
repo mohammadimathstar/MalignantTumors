{
 "cells": [
  {
   "cell_type": "code",
   "execution_count": 1,
   "metadata": {},
   "outputs": [],
   "source": [
    "import functools\n",
    "import glob\n",
    "import os\n",
    "import csv\n",
    "import SimpleITK as sitk\n",
    "from collections import namedtuple\n",
    "import numpy as np"
   ]
  },
  {
   "cell_type": "markdown",
   "metadata": {},
   "source": [
    "### Create a list of tuples (with nodules' sizes): \n",
    "In order to have a good spread of nodules' sizes in training/validation sets, we create a list of tuples which combines two files:\n",
    "- candidates.csv\n",
    "- annotations.csv\n",
    "The resulted list helps to extract interesting parts of raw data."
   ]
  },
  {
   "cell_type": "code",
   "execution_count": 2,
   "metadata": {},
   "outputs": [],
   "source": [
    "Candidate_info = namedtuple('Candidate_info',\n",
    "                            ['isNodule', \n",
    "                             'diameter', \n",
    "                             'seriesid', \n",
    "                             'center_xyz'])\n",
    "\n",
    "@functools.lru_cache(1)\n",
    "def getCandidateInfo(requireOnDisk_bool=True):\n",
    "    mhdlist = glob.glob('./luna/subset0/*.mhd')\n",
    "\n",
    "    presentOnDisk_set = {os.path.split(p)[-1][:-4] for p in mhdlist}\n",
    "#     print(list(presentOnDisk_set))\n",
    "    # puting annotation info inside a dictionary\n",
    "    diameter_dict = {}\n",
    "    with open('./luna/annotations.csv','r') as f:\n",
    "        for row in list(csv.reader(f))[1:]:\n",
    "            series_id = row[0]\n",
    "            Center_xyz = tuple([float(x) for x in row[1:-1]])\n",
    "            Diameter = float(row[-1])\n",
    "            diameter_dict.setdefault(series_id, []).append((Center_xyz, Diameter))\n",
    "    \n",
    "    # \n",
    "    Candidatelist = []\n",
    "    with open('./luna/candidates.csv','r') as f:\n",
    "        for row in list(csv.reader(f))[1:]:               \n",
    "            series_id = row[0]\n",
    "\n",
    "            if series_id not in presentOnDisk_set and requireOnDisk_bool:\n",
    "                continue\n",
    "\n",
    "            isNodule = bool(int(row[-1]))\n",
    "            Center_xyz = tuple([float(x) for x in row[1:-1]])\n",
    "            \n",
    "            candDiameter = 0.0\n",
    "            for annotation_tuple in diameter_dict.get(series_id,[]):\n",
    "                annotation_center, diameter = annotation_tuple\n",
    "                for i in range(3):\n",
    "                    if abs(annotation_center[i] - Center_xyz[i])>diameter/4:\n",
    "                        break\n",
    "                else:\n",
    "                    candDiameter = diameter\n",
    "                    break\n",
    "                    \n",
    "            Candidatelist.append(Candidate_info(\n",
    "                isNodule, \n",
    "                candDiameter,\n",
    "                series_id,\n",
    "                Center_xyz, \n",
    "            ))\n",
    "    Candidatelist.sort(reverse=True)\n",
    "    return Candidatelist"
   ]
  },
  {
   "cell_type": "code",
   "execution_count": null,
   "metadata": {},
   "outputs": [],
   "source": [
    "a = getCandidateInfo()"
   ]
  },
  {
   "cell_type": "code",
   "execution_count": 21,
   "metadata": {},
   "outputs": [],
   "source": [
    "IrcTuple = namedtuple('IrcTuple', ['index', 'row', 'col'])\n",
    "XyzTuple = namedtuple('XyzTuple', ['x', 'y', 'z'])\n",
    "class CTscan():\n",
    "    def __init__(self, series_id):\n",
    "        self.series_id = series_id\n",
    "        mhd_path = glob.glob(f'./luna/subset*/{series_id}.mhd')[0]\n",
    "        \n",
    "        ct_mhd = sitk.ReadImage(mhd_path) \n",
    "        \n",
    "        ct = np.array(sitk.GetArrayFromImage(ct_mhd), dtype=np.float32)\n",
    "        self.hu = np.clip(ct, -1000, 1000)\n",
    "        \n",
    "        self.origin_xyz = XyzTuple(*ct_mhd.GetSpacing())\n",
    "        self.vxsize_xyz = XyzTuple(*ct_mhd.GetSpacing())\n",
    "        self.direction = np.array(*ct_mhd.GetDirection()).reshape(3,3)\n",
    "        \n",
    "    def getRawCandidate(self, center_xyz, width_irc):\n",
    "        "
   ]
  },
  {
   "cell_type": "code",
   "execution_count": 15,
   "metadata": {},
   "outputs": [
    {
     "name": "stdout",
     "output_type": "stream",
     "text": [
      "Object `sitk.GetSpacing` not found.\n"
     ]
    }
   ],
   "source": [
    "sitk.GetSpacing?"
   ]
  },
  {
   "cell_type": "code",
   "execution_count": 16,
   "metadata": {},
   "outputs": [],
   "source": [
    "Dir = glob.glob('./luna/subset0/1.3.6.1.4.1.14519.5.2.1.6279.6001.105756658031515062000744821260.mhd')[0]\n",
    "im = sitk.ReadImage(Dir)"
   ]
  },
  {
   "cell_type": "code",
   "execution_count": 17,
   "metadata": {},
   "outputs": [
    {
     "data": {
      "text/plain": [
       "(0.7617189884185791, 0.7617189884185791, 2.5)"
      ]
     },
     "execution_count": 17,
     "metadata": {},
     "output_type": "execute_result"
    }
   ],
   "source": [
    "im.GetSpacing()"
   ]
  },
  {
   "cell_type": "code",
   "execution_count": 26,
   "metadata": {},
   "outputs": [
    {
     "name": "stdout",
     "output_type": "stream",
     "text": [
      "(-198.100006, -195.0, -335.209991)\n"
     ]
    }
   ],
   "source": [
    "tmp = im.GetOrigin()\n",
    "print(tmp)\n",
    "orig = IrcTuple(*tmp)"
   ]
  },
  {
   "cell_type": "code",
   "execution_count": 27,
   "metadata": {},
   "outputs": [
    {
     "data": {
      "text/plain": [
       "IrcTuple(index=-198.100006, row=-195.0, col=-335.209991)"
      ]
     },
     "execution_count": 27,
     "metadata": {},
     "output_type": "execute_result"
    }
   ],
   "source": [
    "orig"
   ]
  },
  {
   "cell_type": "code",
   "execution_count": null,
   "metadata": {},
   "outputs": [],
   "source": []
  }
 ],
 "metadata": {
  "kernelspec": {
   "display_name": "Python 3",
   "language": "python",
   "name": "python3"
  },
  "language_info": {
   "codemirror_mode": {
    "name": "ipython",
    "version": 3
   },
   "file_extension": ".py",
   "mimetype": "text/x-python",
   "name": "python",
   "nbconvert_exporter": "python",
   "pygments_lexer": "ipython3",
   "version": "3.8.5"
  }
 },
 "nbformat": 4,
 "nbformat_minor": 4
}
